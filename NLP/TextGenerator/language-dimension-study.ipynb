{
 "cells": [
  {
   "cell_type": "markdown",
   "id": "10ff4500",
   "metadata": {},
   "source": [
    "## Requirement Information\n",
    "\n",
    "\n",
    "#### We need to get count of all the possible words in given language. \n",
    "#### and than filter those words which are having meaningful to given language."
   ]
  },
  {
   "cell_type": "markdown",
   "id": "a9724bd8",
   "metadata": {},
   "source": [
    "#### 1. English Language Experiment"
   ]
  },
  {
   "cell_type": "markdown",
   "id": "5a36f6b9",
   "metadata": {},
   "source": [
    "description : \n",
    "1. english language having total Alphabets of 26, which we need to check the all possible words by permutation method.\n",
    "2. we need to define the minimum word length and maximum word length to make the permutations"
   ]
  },
  {
   "cell_type": "code",
   "execution_count": 24,
   "id": "b4178d34",
   "metadata": {},
   "outputs": [],
   "source": [
    "from math import factorial\n",
    "from itertools import permutations\n",
    "import json\n",
    "import pandas as pd\n",
    "import seaborn as sns\n",
    "import matplotlib.pyplot as plt"
   ]
  },
  {
   "cell_type": "code",
   "execution_count": null,
   "id": "175f75c0",
   "metadata": {},
   "outputs": [],
   "source": []
  },
  {
   "cell_type": "code",
   "execution_count": 2,
   "id": "0c9128c6",
   "metadata": {},
   "outputs": [],
   "source": [
    "def calculate_total_possible_words(number_of_alphabets, maximum_word_length, minimum_word_length=1):\n",
    "    \"\"\"\n",
    "        function will calculate the possible word count for given parameters.\n",
    "        permutation formula : nPr ----------> aPw\n",
    "        where  :\n",
    "                a - number_of_alphabets\n",
    "                w - word_length\n",
    "                \n",
    "        condition           : n ≥ r ≥ 0\n",
    "    \"\"\"\n",
    "    \"\"\"\n",
    "        issue : now english have 26 alphabets, but word length can have more than 27 chars, so here permutation logic false, so the below graph values showing.\n",
    "        \n",
    "    \"\"\"\n",
    "\n",
    "    possible_word_counts = []\n",
    "    for word_length in range(minimum_word_length, maximum_word_length):\n",
    "        possible_word_counts.append({\n",
    "            \"number_of_alphabets\" : number_of_alphabets,\n",
    "            \"required_word_lenght\" : word_length,\n",
    "            \"permutation\" : factorial(number_of_alphabets) / factorial(abs(number_of_alphabets - word_length))\n",
    "        })\n",
    "        \n",
    "    return possible_word_counts"
   ]
  },
  {
   "cell_type": "code",
   "execution_count": 48,
   "id": "a7115125",
   "metadata": {},
   "outputs": [
    {
     "data": {
      "text/html": [
       "<div>\n",
       "<style scoped>\n",
       "    .dataframe tbody tr th:only-of-type {\n",
       "        vertical-align: middle;\n",
       "    }\n",
       "\n",
       "    .dataframe tbody tr th {\n",
       "        vertical-align: top;\n",
       "    }\n",
       "\n",
       "    .dataframe thead th {\n",
       "        text-align: right;\n",
       "    }\n",
       "</style>\n",
       "<table border=\"1\" class=\"dataframe\">\n",
       "  <thead>\n",
       "    <tr style=\"text-align: right;\">\n",
       "      <th></th>\n",
       "      <th>number_of_alphabets</th>\n",
       "      <th>required_word_lenght</th>\n",
       "      <th>permutation</th>\n",
       "    </tr>\n",
       "  </thead>\n",
       "  <tbody>\n",
       "    <tr>\n",
       "      <th>0</th>\n",
       "      <td>26</td>\n",
       "      <td>1</td>\n",
       "      <td>26.0</td>\n",
       "    </tr>\n",
       "    <tr>\n",
       "      <th>1</th>\n",
       "      <td>26</td>\n",
       "      <td>2</td>\n",
       "      <td>650.0</td>\n",
       "    </tr>\n",
       "    <tr>\n",
       "      <th>2</th>\n",
       "      <td>26</td>\n",
       "      <td>3</td>\n",
       "      <td>15600.0</td>\n",
       "    </tr>\n",
       "    <tr>\n",
       "      <th>3</th>\n",
       "      <td>26</td>\n",
       "      <td>4</td>\n",
       "      <td>358800.0</td>\n",
       "    </tr>\n",
       "    <tr>\n",
       "      <th>4</th>\n",
       "      <td>26</td>\n",
       "      <td>5</td>\n",
       "      <td>7893600.0</td>\n",
       "    </tr>\n",
       "  </tbody>\n",
       "</table>\n",
       "</div>"
      ],
      "text/plain": [
       "   number_of_alphabets  required_word_lenght  permutation\n",
       "0                   26                     1         26.0\n",
       "1                   26                     2        650.0\n",
       "2                   26                     3      15600.0\n",
       "3                   26                     4     358800.0\n",
       "4                   26                     5    7893600.0"
      ]
     },
     "execution_count": 48,
     "metadata": {},
     "output_type": "execute_result"
    }
   ],
   "source": [
    "number_of_alphabets = 26\n",
    "minimum_word_length = 1\n",
    "maximum_word_length = 100\n",
    "\n",
    "possible_words = calculate_total_possible_words(number_of_alphabets, maximum_word_length, minimum_word_length)\n",
    "possible_words = pd.DataFrame(possible_words)\n",
    "possible_words.head()"
   ]
  },
  {
   "cell_type": "code",
   "execution_count": 49,
   "id": "f8ac9f11",
   "metadata": {},
   "outputs": [],
   "source": [
    "## given 'required_word_lenght' we need to find how many are meaning words are present in given language.\n",
    "## currently keeping the placeholder, adding new column 'actual_word_counts', later need to find and fill the counts.\n",
    "\n",
    "possible_words[\"actual_word_counts\"] = 0"
   ]
  },
  {
   "cell_type": "code",
   "execution_count": 50,
   "id": "ed4eeeb7",
   "metadata": {},
   "outputs": [
    {
     "data": {
      "text/plain": [
       "Text(0.5, 1.0, 'english lanuage specific word counts')"
      ]
     },
     "execution_count": 50,
     "metadata": {},
     "output_type": "execute_result"
    },
    {
     "data": {
      "image/png": "[encoded data removed]",
      "text/plain": [
       "<Figure size 720x360 with 1 Axes>"
      ]
     },
     "metadata": {
      "needs_background": "light"
     },
     "output_type": "display_data"
    }
   ],
   "source": [
    "fig, ax = plt.subplots(figsize = (10,5))\n",
    "sns.lineplot(data=possible_words, x=\"required_word_lenght\", y=\"permutation\", marker=\"o\")\n",
    "\n",
    "ax.set_title(\"english lanuage specific word counts\" , size = 12)"
   ]
  },
  {
   "cell_type": "code",
   "execution_count": 3,
   "id": "5ad2a61a",
   "metadata": {},
   "outputs": [],
   "source": [
    "## Note : 0 values coming as permuation issue. we are trying to calculate permutation of 26P27\n",
    "## we need to find solution for all possibel word count."
   ]
  },
  {
   "cell_type": "markdown",
   "id": "224dc15b",
   "metadata": {},
   "source": [
    "### Generate all possible words of given length"
   ]
  },
  {
   "cell_type": "code",
   "execution_count": 21,
   "id": "e52408e9",
   "metadata": {},
   "outputs": [],
   "source": [
    "def generate_possible_words(all_alphabets, maximum_word_length, minimum_word_length=1):\n",
    "    \n",
    "    number_of_alphabets = len(all_alphabets)\n",
    "    possible_words = []\n",
    "    for word_length in range(minimum_word_length, maximum_word_length+1):\n",
    "        possible_words.append({\n",
    "            \"number_of_alphabets\" : number_of_alphabets,\n",
    "            \"required_word_lenght\" : word_length,\n",
    "            \"word_permutation\" : [\"\".join(word) for word in permutations(all_alphabets, r=word_length)]\n",
    "        })\n",
    "        \n",
    "    return possible_words"
   ]
  },
  {
   "cell_type": "code",
   "execution_count": 26,
   "id": "41c55ea1",
   "metadata": {},
   "outputs": [],
   "source": [
    "english_alphabets = [\"a\", \"b\", \"c\", \"d\", \"e\", \"f\", \"g\", \"h\", \"i\", \"j\", \"k\", \"l\", \"m\", \"n\", \"o\", \"p\", \"q\", \"r\", \"s\", \"t\", \"u\", \"v\", \"w\", \"x\", \"y\",\"z\"]\n",
    "max_word_len = 3\n",
    "min_word_len = 1\n",
    "generated_words = generate_possible_words(all_alphabets = english_alphabets, maximum_word_length=max_word_len)"
   ]
  },
  {
   "cell_type": "code",
   "execution_count": 29,
   "id": "2c707869",
   "metadata": {},
   "outputs": [],
   "source": [
    "filepath = f\"generated_words//max_words_{max_word_len}-min_words_{min_word_len}.json\"\n",
    "with open(filepath, \"w\") as fp:\n",
    "    json.dump(generated_words, fp)\n"
   ]
  },
  {
   "cell_type": "code",
   "execution_count": null,
   "id": "aec1f263",
   "metadata": {},
   "outputs": [],
   "source": []
  }
 ],
 "metadata": {
  "kernelspec": {
   "display_name": "Python 3",
   "language": "python",
   "name": "python3"
  },
  "language_info": {
   "codemirror_mode": {
    "name": "ipython",
    "version": 3
   },
   "file_extension": ".py",
   "mimetype": "text/x-python",
   "name": "python",
   "nbconvert_exporter": "python",
   "pygments_lexer": "ipython3",
   "version": "3.8.8"
  }
 },
 "nbformat": 4,
 "nbformat_minor": 5
}
